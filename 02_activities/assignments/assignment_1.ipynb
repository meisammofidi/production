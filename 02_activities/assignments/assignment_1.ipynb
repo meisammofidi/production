{
 "cells": [
  {
   "cell_type": "markdown",
   "metadata": {},
   "source": [
    "# Working with parquet files\n",
    "\n",
    "## Objective\n",
    "\n",
    "+ In this assignment, we will use the data downloaded with the module `data_manager` to create features.\n",
    "\n",
    "(11 pts total)\n",
    "\n",
    "## Prerequisites\n",
    "\n",
    "+ This notebook assumes that price data is available to you in the environment variable `PRICE_DATA`. If you have not done so, then execute the notebook `01_materials/labs/2_data_engineering.ipynb` to create this data set.\n"
   ]
  },
  {
   "cell_type": "markdown",
   "metadata": {},
   "source": [
    "+ Load the environment variables using dotenv. (1 pt)"
   ]
  },
  {
   "cell_type": "code",
   "execution_count": 12,
   "metadata": {},
   "outputs": [
    {
     "name": "stdout",
     "output_type": "stream",
     "text": [
      "The dotenv extension is already loaded. To reload it, use:\n",
      "  %reload_ext dotenv\n"
     ]
    }
   ],
   "source": [
    "# Write your code below.\n",
    "%load_ext dotenv\n",
    "%dotenv "
   ]
  },
  {
   "cell_type": "code",
   "execution_count": 13,
   "metadata": {},
   "outputs": [],
   "source": [
    "import dask.dataframe as dd"
   ]
  },
  {
   "cell_type": "markdown",
   "metadata": {},
   "source": [
    "+ Load the environment variable `PRICE_DATA`.\n",
    "+ Use [glob](https://docs.python.org/3/library/glob.html) to find the path of all parquet files in the directory `PRICE_DATA`.\n",
    "\n",
    "(1pt)"
   ]
  },
  {
   "cell_type": "code",
   "execution_count": 17,
   "metadata": {},
   "outputs": [
    {
     "name": "stdout",
     "output_type": "stream",
     "text": [
      "Found parquet files: 2940\n",
      "['../../05_src/data/prices/JHMF/JHMF_2015/part.0.parquet', '../../05_src/data/prices/JHMF/JHMF_2015/part.1.parquet', '../../05_src/data/prices/JHMF/JHMF_2019/part.0.parquet', '../../05_src/data/prices/JHMF/JHMF_2019/part.1.parquet', '../../05_src/data/prices/JHMF/JHMF_2017/part.0.parquet']\n"
     ]
    }
   ],
   "source": [
    "import os\n",
    "from glob import glob\n",
    "\n",
    "# Write your code below.\n",
    "\n",
    "# Load environment variable\n",
    "PRICE_DATA = os.getenv(\"PRICE_DATA\")\n",
    "\n",
    "# Use glob to find all parquet files recursively under PRICE_DATA\n",
    "parquet_files = glob(os.path.join(PRICE_DATA, \"**/*.parquet\"), recursive=True)\n",
    "\n",
    "print(\"Found parquet files:\", len(parquet_files))\n",
    "print(parquet_files[:5])  # peek at first few\n"
   ]
  },
  {
   "cell_type": "markdown",
   "metadata": {},
   "source": [
    "For each ticker and using Dask, do the following:\n",
    "\n",
    "+ Add lags for variables Close and Adj_Close.\n",
    "+ Add returns based on Close:\n",
    "    \n",
    "    - `returns`: (Close / Close_lag_1) - 1\n",
    "\n",
    "+ Add the following range: \n",
    "\n",
    "    - `hi_lo_range`: this is the day's High minus Low.\n",
    "\n",
    "+ Assign the result to `dd_feat`.\n",
    "\n",
    "(4 pt)"
   ]
  },
  {
   "cell_type": "code",
   "execution_count": 19,
   "metadata": {},
   "outputs": [
    {
     "data": {
      "text/html": [
       "<div>\n",
       "<style scoped>\n",
       "    .dataframe tbody tr th:only-of-type {\n",
       "        vertical-align: middle;\n",
       "    }\n",
       "\n",
       "    .dataframe tbody tr th {\n",
       "        vertical-align: top;\n",
       "    }\n",
       "\n",
       "    .dataframe thead th {\n",
       "        text-align: right;\n",
       "    }\n",
       "</style>\n",
       "<table border=\"1\" class=\"dataframe\">\n",
       "  <thead>\n",
       "    <tr style=\"text-align: right;\">\n",
       "      <th></th>\n",
       "      <th>ticker</th>\n",
       "      <th>Date</th>\n",
       "      <th>Open</th>\n",
       "      <th>High</th>\n",
       "      <th>Low</th>\n",
       "      <th>Close</th>\n",
       "      <th>Adj_Close</th>\n",
       "      <th>Volume</th>\n",
       "      <th>Close_lag_1</th>\n",
       "      <th>Adj_Close_lag_1</th>\n",
       "      <th>returns</th>\n",
       "      <th>hi_lo_range</th>\n",
       "    </tr>\n",
       "  </thead>\n",
       "  <tbody>\n",
       "  </tbody>\n",
       "</table>\n",
       "</div>"
      ],
      "text/plain": [
       "Empty DataFrame\n",
       "Columns: [ticker, Date, Open, High, Low, Close, Adj_Close, Volume, Close_lag_1, Adj_Close_lag_1, returns, hi_lo_range]\n",
       "Index: []"
      ]
     },
     "execution_count": 19,
     "metadata": {},
     "output_type": "execute_result"
    }
   ],
   "source": [
    "# Write your code below.\n",
    "\n",
    "# Read into a Dask DataFrame\n",
    "dd_px = dd.read_parquet(parquet_files, engine=\"pyarrow\")\n",
    "\n",
    "# Normalize column name for adjusted close if needed\n",
    "if \"Adj Close\" in dd_px.columns:\n",
    "    dd_px = dd_px.rename(columns={\"Adj Close\": \"Adj_Close\"})\n",
    "\n",
    "# Ensure ticker is a column (not index)\n",
    "if \"ticker\" not in dd_px.columns:\n",
    "    dd_px = dd_px.reset_index()\n",
    "\n",
    "# --- Build features per ticker ---\n",
    "def _feat_per_ticker(pdf):\n",
    "    # Sort within each ticker by Date to make shifts/returns correct\n",
    "    pdf = pdf.sort_values(\"Date\")\n",
    "    # Lags\n",
    "    pdf[\"Close_lag_1\"] = pdf[\"Close\"].shift(1)\n",
    "    pdf[\"Adj_Close_lag_1\"] = pdf[\"Adj_Close\"].shift(1)\n",
    "    # Returns\n",
    "    pdf[\"returns\"] = pdf[\"Close\"] / pdf[\"Close_lag_1\"] - 1\n",
    "    # Range (High - Low)\n",
    "    pdf[\"hi_lo_range\"] = pdf[\"High\"] - pdf[\"Low\"]\n",
    "    # Keep useful columns\n",
    "    return pdf[[\n",
    "        \"ticker\",\"Date\",\"Open\",\"High\",\"Low\",\"Close\",\"Adj_Close\",\"Volume\",\n",
    "        \"Close_lag_1\",\"Adj_Close_lag_1\",\"returns\",\"hi_lo_range\"\n",
    "    ]]\n",
    "\n",
    "meta = {\n",
    "    \"ticker\": \"object\",\n",
    "    \"Date\": \"datetime64[ns]\",\n",
    "    \"Open\": \"f8\", \"High\": \"f8\", \"Low\": \"f8\", \"Close\": \"f8\", \"Adj_Close\": \"f8\",\n",
    "    \"Volume\": \"f8\",\n",
    "    \"Close_lag_1\": \"f8\", \"Adj_Close_lag_1\": \"f8\",\n",
    "    \"returns\": \"f8\", \"hi_lo_range\": \"f8\",\n",
    "}\n",
    "\n",
    "dd_feat = (\n",
    "    dd_px.groupby(\"ticker\", group_keys=False)\n",
    "         .apply(_feat_per_ticker, meta=meta)\n",
    ")\n",
    "\n",
    "dd_feat.head()\n"
   ]
  },
  {
   "cell_type": "markdown",
   "metadata": {},
   "source": [
    "+ Convert the Dask data frame to a pandas data frame. \n",
    "+ Add a new feature containing the moving average of `returns` using a window of 10 days. There are several ways to solve this task, a simple one uses `.rolling(10).mean()`.\n",
    "\n",
    "(3 pt)"
   ]
  },
  {
   "cell_type": "code",
   "execution_count": 20,
   "metadata": {},
   "outputs": [
    {
     "name": "stdout",
     "output_type": "stream",
     "text": [
      "      ticker       Date       Open       High        Low      Close  \\\n",
      "38739      A 1999-11-18  32.546494  35.765381  28.612303  31.473534   \n",
      "38740      A 1999-11-19  30.713520  30.758226  28.478184  28.880543   \n",
      "38741      A 1999-11-22  29.551144  31.473534  28.657009  31.473534   \n",
      "38742      A 1999-11-23  30.400572  31.205294  28.612303  28.612303   \n",
      "38743      A 1999-11-24  28.701717  29.998211  28.612303  29.372318   \n",
      "38744      A 1999-11-26  29.238197  29.685265  29.148785  29.461731   \n",
      "38745      A 1999-11-29  29.327610  30.355865  29.014664  30.132332   \n",
      "38746      A 1999-11-30  30.042919  30.713520  29.282904  30.177038   \n",
      "38747      A 1999-12-01  30.177038  31.071173  29.953505  30.713520   \n",
      "38748      A 1999-12-02  31.294706  32.188843  30.892345  31.562946   \n",
      "38749      A 1999-12-03  32.144135  32.680614  31.697067  31.831188   \n",
      "38750      A 1999-12-06  32.367668  33.217094  32.322960  32.725323   \n",
      "38751      A 1999-12-07  32.725323  32.904148  31.697067  32.367668   \n",
      "38752      A 1999-12-08  32.367668  32.635910  32.054722  32.322960   \n",
      "38753      A 1999-12-09  32.367668  32.859444  32.367668  32.770027   \n",
      "\n",
      "       Adj_Close      Volume  Close_lag_1  Adj_Close_lag_1   returns  \\\n",
      "38739  27.068665  62546300.0          NaN              NaN       NaN   \n",
      "38740  24.838577  15234100.0    31.473534        27.068665 -0.082386   \n",
      "38741  27.068665   6577800.0    28.880543        24.838577  0.089783   \n",
      "38742  24.607880   5975600.0    31.473534        27.068665 -0.090909   \n",
      "38743  25.261524   4843200.0    28.612303        24.607880  0.026563   \n",
      "38744  25.338428   1729400.0    29.372318        25.261524  0.003044   \n",
      "38745  25.915169   4074700.0    29.461731        25.338428  0.022762   \n",
      "38746  25.953619   4310000.0    30.132332        25.915169  0.001484   \n",
      "38747  26.415012   2957300.0    30.177038        25.953619  0.017778   \n",
      "38748  27.145563   3069800.0    30.713520        26.415012  0.027656   \n",
      "38749  27.376266   3041600.0    31.562946        27.145563  0.008499   \n",
      "38750  28.145258   2250700.0    31.831188        27.376266  0.028090   \n",
      "38751  27.837664   2215900.0    32.725323        28.145258 -0.010929   \n",
      "38752  27.799208   1887800.0    32.367668        27.837664 -0.001381   \n",
      "38753  28.183710   2029000.0    32.322960        27.799208  0.013831   \n",
      "\n",
      "       hi_lo_range  ma_returns_10  \n",
      "38739     7.153078            NaN  \n",
      "38740     2.280043            NaN  \n",
      "38741     2.816525            NaN  \n",
      "38742     2.592991            NaN  \n",
      "38743     1.385908            NaN  \n",
      "38744     0.536480            NaN  \n",
      "38745     1.341202            NaN  \n",
      "38746     1.430616            NaN  \n",
      "38747     1.117668            NaN  \n",
      "38748     1.296497            NaN  \n",
      "38749     0.983547       0.002427  \n",
      "38750     0.894135       0.013475  \n",
      "38751     1.207081       0.003404  \n",
      "38752     0.581188       0.012356  \n",
      "38753     0.491776       0.011083  \n"
     ]
    }
   ],
   "source": [
    "# Write your code below.\n",
    "# 1) Convert Dask DataFrame to pandas\n",
    "df_feat = dd_feat.compute()\n",
    "\n",
    "# 2) Sort so rolling works properly within each ticker\n",
    "df_feat = df_feat.sort_values([\"ticker\", \"Date\"])\n",
    "\n",
    "# 3) Compute 10-day moving average of returns per ticker\n",
    "df_feat[\"ma_returns_10\"] = (\n",
    "    df_feat.groupby(\"ticker\")[\"returns\"]\n",
    "           .transform(lambda x: x.rolling(10).mean())\n",
    ")\n",
    "\n",
    "# 4) Inspect results\n",
    "print(df_feat.head(15))\n"
   ]
  },
  {
   "cell_type": "markdown",
   "metadata": {},
   "source": [
    "Please comment:\n",
    "\n",
    "+ Was it necessary to convert to pandas to calculate the moving average return? No,   converting to pandas was not strictly necessary — Dask also supports rolling operations with groupby.We used pandas here mainly for simplicity and inspection, while Dask is better suited if the dataset is too large for memory.\n",
    "\n",
    "+ Would it have been better to do it in Dask? Why? Yes — doing it in Dask is better for large datasets because it processes data in parallel avoiding memory overload. Pandas is fine for smaller datasets, but it forces all data into memory, which doesn’t scale well.\n",
    "\n",
    "(1 pt)"
   ]
  },
  {
   "cell_type": "markdown",
   "metadata": {},
   "source": [
    "## Criteria\n",
    "\n",
    "The [rubric](./assignment_1_rubric_clean.xlsx) contains the criteria for grading."
   ]
  },
  {
   "cell_type": "markdown",
   "metadata": {},
   "source": [
    "## Submission Information\n",
    "\n",
    "🚨 **Please review our [Assignment Submission Guide](https://github.com/UofT-DSI/onboarding/blob/main/onboarding_documents/submissions.md)** 🚨 for detailed instructions on how to format, branch, and submit your work. Following these guidelines is crucial for your submissions to be evaluated correctly.\n",
    "\n",
    "### Submission Parameters:\n",
    "* Submission Due Date: `HH:MM AM/PM - DD/MM/YYYY`\n",
    "* The branch name for your repo should be: `assignment-1`\n",
    "* What to submit for this assignment:\n",
    "    * This Jupyter Notebook (assignment_1.ipynb) should be populated and should be the only change in your pull request.\n",
    "* What the pull request link should look like for this assignment: `https://github.com/<your_github_username>/production/pull/<pr_id>`\n",
    "    * Open a private window in your browser. Copy and paste the link to your pull request into the address bar. Make sure you can see your pull request properly. This helps the technical facilitator and learning support staff review your submission easily.\n",
    "\n",
    "Checklist:\n",
    "- [ ] Created a branch with the correct naming convention.\n",
    "- [ ] Ensured that the repository is public.\n",
    "- [ ] Reviewed the PR description guidelines and adhered to them.\n",
    "- [ ] Verify that the link is accessible in a private browser window.\n",
    "\n",
    "If you encounter any difficulties or have questions, please don't hesitate to reach out to our team via our Slack at `#cohort-3-help`. Our Technical Facilitators and Learning Support staff are here to help you navigate any challenges."
   ]
  }
 ],
 "metadata": {
  "kernelspec": {
   "display_name": "dsi_participant",
   "language": "python",
   "name": "python3"
  },
  "language_info": {
   "codemirror_mode": {
    "name": "ipython",
    "version": 3
   },
   "file_extension": ".py",
   "mimetype": "text/x-python",
   "name": "python",
   "nbconvert_exporter": "python",
   "pygments_lexer": "ipython3",
   "version": "3.9.18"
  }
 },
 "nbformat": 4,
 "nbformat_minor": 2
}
